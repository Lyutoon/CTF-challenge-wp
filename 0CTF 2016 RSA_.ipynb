{
 "cells": [
  {
   "cell_type": "code",
   "execution_count": 9,
   "metadata": {},
   "outputs": [],
   "source": [
    "c = 2485360255306619684345131431867350432205477625621366642887752720125176463993839766742234027524\n",
    "p = 26440615366395242196516853423447\n",
    "q = 27038194053540661979045656526063\n",
    "r = 32581479300404876772405716877547\n",
    "mods = [p, q, r]\n",
    "rems = []"
   ]
  },
  {
   "cell_type": "code",
   "execution_count": 3,
   "metadata": {},
   "outputs": [
    {
     "name": "stdout",
     "output_type": "stream",
     "text": [
      "[13374868592866626517389128266735, 7379361747422713811654086477766, 5686385026105901867473638678946]\n",
      "[19616973567618515464515107624812]\n",
      "[13404203109409336045283549715377, 13028011585706956936052628027629, 6149264605288583791069539134541]\n"
     ]
    }
   ],
   "source": [
    "# this method is from hellmen's blog\n",
    "\n",
    "# def cube_root(a, q):\n",
    "#     F = GF(q)\n",
    "#     R.<x> = PolynomialRing(F)\n",
    "#     while 1:\n",
    "#         a = F.random_element()\n",
    "#         b = F.random_element()\n",
    "#         fx = x**3 - a*x**2 + b*x - c\n",
    "#         fc = list(factor(fx))\n",
    "#         if len(fc) <= 1:\n",
    "#             root = pow(x, (q**2+q+1)/3, fx)\n",
    "#             root %= x\n",
    "#             return int(root)\n",
    "# for mod in mods:\n",
    "#     rems.append([])\n",
    "#     if gcd(3, mod-1) == 1:\n",
    "#         d = inverse_mod(3, mod-1)\n",
    "#         rems[-1].append(int(pow(c, d, mod)))\n",
    "#     else:\n",
    "#         g = GF(mod).multiplicative_generator()\n",
    "#         u = int(g ** ((mod-1)/3))\n",
    "#         r1 = int(cube_root(c, mod))\n",
    "#         for i in range(3):\n",
    "#             rems[-1].append( int(r1 * pow(u, i, mod) % mod) )\n",
    "#     print(rems[-1])"
   ]
  },
  {
   "cell_type": "code",
   "execution_count": 10,
   "metadata": {},
   "outputs": [],
   "source": [
    "for mod in mods:\n",
    "    rems.append(Mod(c, mod).nth_root(3, all = True))"
   ]
  },
  {
   "cell_type": "code",
   "execution_count": 11,
   "metadata": {},
   "outputs": [],
   "source": [
    "rems = [[int(i) for i in v] for v in rems]"
   ]
  },
  {
   "cell_type": "code",
   "execution_count": 12,
   "metadata": {},
   "outputs": [
    {
     "name": "stdout",
     "output_type": "stream",
     "text": [
      "b'\\x01c\\xb9;\\x0c\\x87\\r\\x00\\xf3/X\\x90\\xf2\\xec\\xa7o[\\xb4\\xf2\\xaao9\\x97\\xe6\\x87~\\x1a`i~\\xd8\\xcc\\x19PtP920H'\n",
      "b'\\x01\\xbf4\\xa0O\\xe0\\x01Z\\xd8\\xcb\\x00\\xf1\\t\\xb6\\xc0\\x83\\x04\\x82\\xa22\\xa2\\x02\\x88\"\\x19\\xd5\\xf2\\xb4+\\xf3\\x1f\\x03\\x8b\\x1d\\x90l\\xd3\\xc9e\\xa5'\n",
      "b'\\x01\\x93\\x83\\x7f\\xc1\\xe6/\\xadr{B\\x07\\x16\\x9ev\\x13\\xb5\"$?S%\\x96\\xea\\xc6}?>0^\\x87+\\x05~\\tk\\\\\\xe8R<'\n",
      "b'\\x02\\x12\\x87\\xff\\x85x\\r\\x87tr\\xde~b\\x15\\xb9\\xca\\r-\\x97\\x92\\x82\\xcf\\xb5\\xce\\xdc\\xeb\\xea\\x0b=/gN49\\x14\\xe7UM\\xe3\\x08'\n",
      "b'\\x02n\\x03d\\xc8\\xd1\\x01\\xe1Z\\x0e\\x86\\xdex\\xdf\\xd2\\xdd\\xb5\\xfbG\\x1a\\xb5\\x98\\xa6\\noC\\xc2^\\xff\\xa3\\xad\\x85\\xa6\\x061\\x03\\xef\\xe5\\x18e'\n",
      "b\"\\x02BRD:\\xd703\\xf3\\xbe\\xc7\\xf4\\x85\\xc7\\x88nf\\x9a\\xc9'f\\xbb\\xb4\\xd3\\x1b\\xeb\\x0e\\xe9\\x04\\x0f\\x15\\xad f\\xaa\\x02y\\x04\\x04\\xfc\"\n",
      "b'\\x02\\x9d\\xb0\\xda\\xb3\\xe6g\\xc4\\x15%\\xbc\\tF\\x8f\\x89\\x07\\x81\\xab\\x10\\xfa\\xff\\xfb\\xf0\\xc6F\\xba7\\xf0\\xe9\\xbej\\x0c\\x14s\\xf1\\xb5\\x14\\xe0\\xe7i'\n",
      "b'.\\x82\\x7fY~U\\xff\\xaaC\\x08\\xea#{\\xbe\\xd5\\xca\\xa8\\xdf[\\x8f\\xfeE\\x9f\\xbc\\x8e\\x12\\xa7n\\xf4\\x06\\x08\\xd9\\xfe\\xf9T\\xd8_\\x90s'\n",
      "b'\\x02\\xd1^\\xcb\\x84\\x84RC\\xf3J\\x000ctf{HahA!Thi5_1s_n0T_rSa~}\\n'\n"
     ]
    }
   ],
   "source": [
    "from itertools import product\n",
    "from Crypto.Util.number import *\n",
    "for testrems in product(*rems):\n",
    "    m = crt(list(testrems), mods)\n",
    "    assert pow(m, 3, p*q*r) == c % (p*q*r)\n",
    "    print(long_to_bytes(m))"
   ]
  },
  {
   "cell_type": "code",
   "execution_count": null,
   "metadata": {},
   "outputs": [],
   "source": []
  }
 ],
 "metadata": {
  "kernelspec": {
   "display_name": "SageMath 9.2",
   "language": "sage",
   "name": "sagemath"
  },
  "language_info": {
   "codemirror_mode": {
    "name": "ipython",
    "version": 3
   },
   "file_extension": ".py",
   "mimetype": "text/x-python",
   "name": "python",
   "nbconvert_exporter": "python",
   "pygments_lexer": "ipython3",
   "version": "3.7.7"
  }
 },
 "nbformat": 4,
 "nbformat_minor": 4
}
