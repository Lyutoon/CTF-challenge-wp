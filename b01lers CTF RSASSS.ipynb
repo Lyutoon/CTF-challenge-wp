{
 "cells": [
  {
   "cell_type": "code",
   "execution_count": 78,
   "metadata": {},
   "outputs": [],
   "source": [
    "p = 7237005577332262213973186563042994240829374041602535252466099000494570602917\n",
    "q = 88653318322320212121171535397276679450159832009631056842709712756058489880609\n",
    "e = 16\n",
    "c = 128067909105216284348808993695734979917384615977985008857494038384160720721127262500602107681721675827823420594821881043967947295783995842628815275429540\n",
    "mods = [p, q]"
   ]
  },
  {
   "cell_type": "code",
   "execution_count": 79,
   "metadata": {},
   "outputs": [],
   "source": [
    "resp = Mod(c, p).nth_root(e, all=True)"
   ]
  },
  {
   "cell_type": "code",
   "execution_count": 80,
   "metadata": {},
   "outputs": [],
   "source": [
    "resq = Mod(c, q).nth_root(e, all=True)"
   ]
  },
  {
   "cell_type": "code",
   "execution_count": 81,
   "metadata": {},
   "outputs": [
    {
     "name": "stdout",
     "output_type": "stream",
     "text": [
      "b'(2, 861352498496153254961238645321268413658613864351)'\n"
     ]
    }
   ],
   "source": [
    "rems = [[int(x) for x in resp], [int(x) for x in resq]]\n",
    "from itertools import product\n",
    "for testrems in product(*rems):\n",
    "    m = crt(list(testrems), mods)\n",
    "    assert pow(m, 16, p*q) == c % (p*q)\n",
    "    if hex(m).startswith('0x28322c'):\n",
    "        print(long_to_bytes(m))"
   ]
  },
  {
   "cell_type": "code",
   "execution_count": 77,
   "metadata": {},
   "outputs": [
    {
     "name": "stdout",
     "output_type": "stream",
     "text": [
      "b'(1, 132156498146518935546534654)'\n"
     ]
    }
   ],
   "source": [
    "import gmpy2\n",
    "N = 97047969232146954924046774696075865737213640317155598548487427318856539382020276352271195838803309131457220036648459752540841036128924236048549721616504194211254524734004891263525843844420125276708561088067354907535207032583787127753999797298443939923156682493665024043791390402297820623248479854569162947726288476231132227245848115115422145148336574070067423431126845531640957633685686645225126825334581913963565723039133863796718136412375397839670960352036239720850084055826265202851425314018360795995897013762969921609482109602561498180630710515820313694959690818241359973185843521836735260581693346819233041430373151\n",
    "e = 3\n",
    "c = 6008114574778435343952018711942729034975412246009252210018599456513617537698072592002032569492841831205939130493750693989597182551192638274353912519544475581613764788829782577570885595737170709653047941339954488766683093231757625\n",
    "print(long_to_bytes(gmpy2.iroot(c, 3)[0]))"
   ]
  },
  {
   "cell_type": "code",
   "execution_count": 95,
   "metadata": {},
   "outputs": [
    {
     "name": "stdout",
     "output_type": "stream",
     "text": [
      "b'bctf{Mr._Ad1_5ham1r}'\n"
     ]
    },
    {
     "name": "stderr",
     "output_type": "stream",
     "text": [
      "/opt/sagemath-9.2/local/lib/python3.7/site-packages/Crypto/Random/_UserFriendlyRNG.py:77: DeprecationWarning: time.clock has been deprecated in Python 3.3 and will be removed from Python 3.8: use time.perf_counter or time.process_time instead\n",
      "  t = time.clock()\n"
     ]
    }
   ],
   "source": [
    "N = 3213876088517980551083924185487283336189331657515992206038949\n",
    "e = 65537\n",
    "c = 2941293819923490843589362205798232424837846370982721175905966\n",
    "p = 1267650600228229401496703205653\n",
    "q = N // p\n",
    "assert p * q == N\n",
    "d = inverse(e, (p-1)*(q-1))\n",
    "m = pow(c, d, N)\n",
    "import shamir\n",
    "a = (int(1), int(132156498146518935546534654))\n",
    "b = (int(2), int(861352498496153254961238645321268413658613864351))\n",
    "c = (int(3), int(3145756504701717246281836139538967176547517737056))\n",
    "print(long_to_bytes(shamir.recover_secret([a, b, c], prime=getPrime(int(512)))))"
   ]
  }
 ],
 "metadata": {
  "kernelspec": {
   "display_name": "SageMath 9.2",
   "language": "sage",
   "name": "sagemath"
  },
  "language_info": {
   "codemirror_mode": {
    "name": "ipython",
    "version": 3
   },
   "file_extension": ".py",
   "mimetype": "text/x-python",
   "name": "python",
   "nbconvert_exporter": "python",
   "pygments_lexer": "ipython3",
   "version": "3.7.7"
  }
 },
 "nbformat": 4,
 "nbformat_minor": 4
}
